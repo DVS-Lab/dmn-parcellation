{
 "cells": [
  {
   "cell_type": "code",
   "execution_count": null,
   "metadata": {
    "collapsed": true
   },
   "outputs": [],
   "source": [
    "%matplotlib inline\n",
    "from neurosynth.base.dataset import Dataset\n",
    "dataset = Dataset.load(\"data/neurosynth_60_0.6.pkl\")\n",
    "from sklearn.naive_bayes import GaussianNB\n",
    "from classification import RegionalClassifier\n",
    "from sklearn.metrics import roc_auc_score\n",
    "from plotting import plot_clf_polar\n",
    "from nilearn import plotting as niplt\n",
    "from matplotlib.colors import ListedColormap\n",
    "import numpy as np"
   ]
  },
  {
   "cell_type": "code",
   "execution_count": null,
   "metadata": {
    "collapsed": true
   },
   "outputs": [],
   "source": [
    "nicknames = pd.read_csv('data/v4-topics-60.txt', delimiter='\\t')\n",
    "nicknames['topic_name'] = nicknames.apply(lambda row: '_'.join([str(row.topic_number)] + row.top_words.split(' ')[0:3]), axis=1)\n",
    "nicknames = nicknames.sort_values('topic_name')"
   ]
  },
  {
   "cell_type": "code",
   "execution_count": null,
   "metadata": {
    "collapsed": true
   },
   "outputs": [],
   "source": [
    "cognitive_topics = ['memory','categorization','switching','inhibition','priming',\n",
    "                    'social','fear','emotion','learning','reward',  \n",
    "                    'decision-making','imagery','spatial','attention','WM',\n",
    "                    'awareness','language','math','semantics','reading']\n",
    "\n",
    "disease_topics = ['smoking','eating-disorder','depression','schizopherenia','adhd','autism','Alzheimer-Parkinson','ptsd']\n",
    "\n",
    "selected_topics = ['memory','categorization','switching','inhibition','priming',\n",
    "                    'social','fear','emotion','learning','reward',  \n",
    "                    'decision-making','imagery','spatial','attention','WM',\n",
    "                    'awareness','language','math','semantics','reading','action','pain',\n",
    "                  'smoking','Alzheimer-Parkinson','eating-disorder','depression','autism','ptsd','adhd','schizopherenia']"
   ]
  },
  {
   "cell_type": "code",
   "execution_count": null,
   "metadata": {
    "collapsed": true
   },
   "outputs": [],
   "source": [
    "clf = RegionalClassifier(dataset, 'masks/newDMN_4regions.nii.gz', GaussianNB())\n",
    "formated_importances = clf.get_formatted_importances(feature_names=nicknames.nickname)\n",
    "\n",
    "a, b, cog =plot_clf_polar(formated_importances,labels = cognitive_topics, max_val=1.2,label_size=22)\n",
    "a, b, dis = plot_clf_polar(formated_importances, labels = disease_topics, max_val=0.8,label_size=22)\n",
    "\n",
    "cog.savefig('DMN_cog.svg')\n",
    "dis.savefig('DMN_dis.svg')"
   ]
  },
  {
   "cell_type": "code",
   "execution_count": null,
   "metadata": {
    "collapsed": true
   },
   "outputs": [],
   "source": [
    "clf = RegionalClassifier(dataset, 'images/MPFC/cluster_labels_k2.nii.gz', GaussianNB())\n",
    "formated_importances = clf.get_formatted_importances(feature_names=nicknames.nickname)\n",
    "\n",
    "colors = [\"amber\",\"dark blue grey\"]\n",
    "colors = sns.xkcd_palette(colors)\n",
    "formated_importances = clf.get_formatted_importances(feature_names=nicknames.nickname)\n",
    "\n",
    "a, b, cog =plot_clf_polar(formated_importances,labels = cognitive_topics, max_val=1.2,label_size=22)\n",
    "a, b, dis = plot_clf_polar(formated_importances, labels = disease_topics, max_val=0.8,label_size=22)\n",
    "\n",
    "cog.savefig('MPFC_cog.svg')\n",
    "dis.savefig('MPFC_dis.svg')"
   ]
  },
  {
   "cell_type": "code",
   "execution_count": null,
   "metadata": {
    "collapsed": true
   },
   "outputs": [],
   "source": [
    "clf = RegionalClassifier(dataset, 'images/PCC/cluster_labels_k3.nii.gz', GaussianNB())\n",
    "formated_importances = clf.get_formatted_importances(feature_names=nicknames.nickname)\n",
    "\n",
    "colors = [\"jungle green\",\"yellow\",\"red\"]\n",
    "colors = sns.xkcd_palette(colors)\n",
    "formated_importances = clf.get_formatted_importances(feature_names=nicknames.nickname)\n",
    "\n",
    "a, b, cog =plot_clf_polar(formated_importances,labels = cognitive_topics, max_val=1.2,label_size=22)\n",
    "a, b, dis = plot_clf_polar(formated_importances, labels = disease_topics, max_val=0.8,label_size=22)\n",
    "\n",
    "cog.savefig('PCC_cog.svg')\n",
    "dis.savefig('PCC_dis.svg')"
   ]
  },
  {
   "cell_type": "code",
   "execution_count": null,
   "metadata": {
    "collapsed": true
   },
   "outputs": [],
   "source": [
    "clf = RegionalClassifier(dataset, 'images/lTPJ/cluster_labels_k3.nii.gz', GaussianNB())\n",
    "formated_importances = clf.get_formatted_importances(feature_names=nicknames.nickname)\n",
    "\n",
    "colors = [\"clay\",\"dodger blue\",\"pink\"]\n",
    "colors = sns.xkcd_palette(colors)\n",
    "formated_importances = clf.get_formatted_importances(feature_names=nicknames.nickname)\n",
    "\n",
    "a, b, cog =plot_clf_polar(formated_importances,labels = cognitive_topics, max_val=1.2,label_size=22)\n",
    "a, b, dis = plot_clf_polar(formated_importances, labels = disease_topics, max_val=0.8,label_size=22)\n",
    "\n",
    "cog.savefig('lTPJ_cog.svg')\n",
    "dis.savefig('lTPJ_dis.svg')"
   ]
  },
  {
   "cell_type": "code",
   "execution_count": null,
   "metadata": {
    "collapsed": true
   },
   "outputs": [],
   "source": [
    "clf = RegionalClassifier(dataset, 'images/rTPJ/cluster_labels_k2.nii.gz', GaussianNB())\n",
    "formated_importances = clf.get_formatted_importances(feature_names=nicknames.nickname)\n",
    "\n",
    "colors = [\"lighter green\",\"bluey purple\"]\n",
    "colors = sns.xkcd_palette(colors)\n",
    "formated_importances = clf.get_formatted_importances(feature_names=nicknames.nickname)\n",
    "\n",
    "a, b, cog =plot_clf_polar(formated_importances,labels = cognitive_topics, max_val=1.2,label_size=22)\n",
    "a, b, dis = plot_clf_polar(formated_importances, labels = disease_topics, max_val=0.8,label_size=22)\n",
    "\n",
    "cog.savefig('rTPJ_cog.svg')\n",
    "dis.savefig('rTPJ_dis.svg')"
   ]
  }
 ],
 "metadata": {
  "anaconda-cloud": {},
  "kernelspec": {
   "display_name": "Python [conda root]",
   "language": "python",
   "name": "conda-root-py"
  },
  "language_info": {
   "codemirror_mode": {
    "name": "ipython",
    "version": 2
   },
   "file_extension": ".py",
   "mimetype": "text/x-python",
   "name": "python",
   "nbconvert_exporter": "python",
   "pygments_lexer": "ipython2",
   "version": "2.7.12"
  }
 },
 "nbformat": 4,
 "nbformat_minor": 1
}
