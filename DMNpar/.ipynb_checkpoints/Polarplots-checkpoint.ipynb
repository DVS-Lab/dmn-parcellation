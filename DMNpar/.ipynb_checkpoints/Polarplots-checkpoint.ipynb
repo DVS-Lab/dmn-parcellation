{
 "cells": [
  {
   "cell_type": "code",
   "execution_count": 1,
   "metadata": {
    "collapsed": true
   },
   "outputs": [],
   "source": [
    "%matplotlib inline\n",
    "from neurosynth.base.dataset import Dataset\n",
    "dataset = Dataset.load(\"data/neurosynth_60_0.6.pkl\")\n",
    "from sklearn.naive_bayes import GaussianNB\n",
    "from classification import RegionalClassifier\n",
    "from sklearn.metrics import roc_auc_score\n",
    "from plotting import plot_clf_polar\n",
    "from nilearn import plotting as niplt\n",
    "from matplotlib.colors import ListedColormap\n",
    "import numpy as np\n",
    "import pandas as pd"
   ]
  },
  {
   "cell_type": "code",
   "execution_count": 3,
   "metadata": {
    "collapsed": false
   },
   "outputs": [],
   "source": [
    "nicknames = pd.read_csv('data/v4-topics-60.txt', delimiter='\\t')\n",
    "nicknames['topic_name'] = nicknames.apply(lambda row: '_'.join([str(row.topic_number)] + row.top_words.split(' ')[0:3]), axis=1)\n",
    "nicknames = nicknames.sort_values('topic_name')"
   ]
  },
  {
   "cell_type": "code",
   "execution_count": 4,
   "metadata": {
    "collapsed": true
   },
   "outputs": [],
   "source": [
    "cognitive_topics = ['memory','categorization','switching','inhibition','priming',\n",
    "                    'social','fear','emotion','learning','reward',  \n",
    "                    'decision-making','imagery','spatial','attention','WM',\n",
    "                    'awareness','language','math','semantics','reading']\n",
    "\n",
    "disease_topics = ['smoking','eating-disorder','depression','schizopherenia','adhd','autism','Alzheimer-Parkinson','ptsd']\n",
    "\n",
    "selected_topics = ['memory','categorization','switching','inhibition','priming',\n",
    "                    'social','fear','emotion','learning','reward',  \n",
    "                    'decision-making','imagery','spatial','attention','WM',\n",
    "                    'awareness','language','math','semantics','reading','action','pain',\n",
    "                  'smoking','Alzheimer-Parkinson','eating-disorder','depression','autism','ptsd','adhd','schizopherenia']"
   ]
  },
  {
   "cell_type": "code",
   "execution_count": 5,
   "metadata": {
    "collapsed": false
   },
   "outputs": [
    {
     "ename": "AttributeError",
     "evalue": "'RegionalClassifier' object has no attribute 'importance'",
     "output_type": "error",
     "traceback": [
      "\u001b[0;31m---------------------------------------------------------------------------\u001b[0m",
      "\u001b[0;31mAttributeError\u001b[0m                            Traceback (most recent call last)",
      "\u001b[0;32m<ipython-input-5-77f98ff33fd2>\u001b[0m in \u001b[0;36m<module>\u001b[0;34m()\u001b[0m\n\u001b[1;32m      1\u001b[0m \u001b[0mclf\u001b[0m \u001b[0;34m=\u001b[0m \u001b[0mRegionalClassifier\u001b[0m\u001b[0;34m(\u001b[0m\u001b[0mdataset\u001b[0m\u001b[0;34m,\u001b[0m \u001b[0;34m'masks/newDMN_4regions.nii.gz'\u001b[0m\u001b[0;34m,\u001b[0m \u001b[0mGaussianNB\u001b[0m\u001b[0;34m(\u001b[0m\u001b[0;34m)\u001b[0m\u001b[0;34m)\u001b[0m\u001b[0;34m\u001b[0m\u001b[0m\n\u001b[0;32m----> 2\u001b[0;31m \u001b[0mformated_importances\u001b[0m \u001b[0;34m=\u001b[0m \u001b[0mclf\u001b[0m\u001b[0;34m.\u001b[0m\u001b[0mget_formatted_importances\u001b[0m\u001b[0;34m(\u001b[0m\u001b[0mfeature_names\u001b[0m\u001b[0;34m=\u001b[0m\u001b[0mnicknames\u001b[0m\u001b[0;34m.\u001b[0m\u001b[0mnickname\u001b[0m\u001b[0;34m)\u001b[0m\u001b[0;34m\u001b[0m\u001b[0m\n\u001b[0m\u001b[1;32m      3\u001b[0m \u001b[0;34m\u001b[0m\u001b[0m\n\u001b[1;32m      4\u001b[0m \u001b[0ma\u001b[0m\u001b[0;34m,\u001b[0m \u001b[0mb\u001b[0m\u001b[0;34m,\u001b[0m \u001b[0mcog\u001b[0m \u001b[0;34m=\u001b[0m\u001b[0mplot_clf_polar\u001b[0m\u001b[0;34m(\u001b[0m\u001b[0mformated_importances\u001b[0m\u001b[0;34m,\u001b[0m\u001b[0mlabels\u001b[0m \u001b[0;34m=\u001b[0m \u001b[0mcognitive_topics\u001b[0m\u001b[0;34m,\u001b[0m \u001b[0mmax_val\u001b[0m\u001b[0;34m=\u001b[0m\u001b[0;36m1.2\u001b[0m\u001b[0;34m,\u001b[0m\u001b[0mlabel_size\u001b[0m\u001b[0;34m=\u001b[0m\u001b[0;36m22\u001b[0m\u001b[0;34m)\u001b[0m\u001b[0;34m\u001b[0m\u001b[0m\n\u001b[1;32m      5\u001b[0m \u001b[0ma\u001b[0m\u001b[0;34m,\u001b[0m \u001b[0mb\u001b[0m\u001b[0;34m,\u001b[0m \u001b[0mdis\u001b[0m \u001b[0;34m=\u001b[0m \u001b[0mplot_clf_polar\u001b[0m\u001b[0;34m(\u001b[0m\u001b[0mformated_importances\u001b[0m\u001b[0;34m,\u001b[0m \u001b[0mlabels\u001b[0m \u001b[0;34m=\u001b[0m \u001b[0mdisease_topics\u001b[0m\u001b[0;34m,\u001b[0m \u001b[0mmax_val\u001b[0m\u001b[0;34m=\u001b[0m\u001b[0;36m0.8\u001b[0m\u001b[0;34m,\u001b[0m\u001b[0mlabel_size\u001b[0m\u001b[0;34m=\u001b[0m\u001b[0;36m22\u001b[0m\u001b[0;34m)\u001b[0m\u001b[0;34m\u001b[0m\u001b[0m\n",
      "\u001b[0;32m/Users/shaoming/Dropbox/Research/Labs/David/DMN_parcellation/DMNpar/classification.pyc\u001b[0m in \u001b[0;36mget_formatted_importances\u001b[0;34m(self, feature_names)\u001b[0m\n\u001b[1;32m    125\u001b[0m             \u001b[0mfeature_names\u001b[0m \u001b[0;34m=\u001b[0m \u001b[0mself\u001b[0m\u001b[0;34m.\u001b[0m\u001b[0mfeature_names\u001b[0m\u001b[0;34m\u001b[0m\u001b[0m\n\u001b[1;32m    126\u001b[0m \u001b[0;34m\u001b[0m\u001b[0m\n\u001b[0;32m--> 127\u001b[0;31m         \u001b[0mo_fi\u001b[0m \u001b[0;34m=\u001b[0m \u001b[0mpd\u001b[0m\u001b[0;34m.\u001b[0m\u001b[0mDataFrame\u001b[0m\u001b[0;34m(\u001b[0m\u001b[0mself\u001b[0m\u001b[0;34m.\u001b[0m\u001b[0mimportance\u001b[0m\u001b[0;34m,\u001b[0m \u001b[0mcolumns\u001b[0m\u001b[0;34m=\u001b[0m\u001b[0mfeature_names\u001b[0m\u001b[0;34m)\u001b[0m\u001b[0;34m\u001b[0m\u001b[0m\n\u001b[0m\u001b[1;32m    128\u001b[0m \u001b[0;34m\u001b[0m\u001b[0m\n\u001b[1;32m    129\u001b[0m         \u001b[0;31m# Melt feature importances, and add top_words for each feeature\u001b[0m\u001b[0;34m\u001b[0m\u001b[0;34m\u001b[0m\u001b[0m\n",
      "\u001b[0;31mAttributeError\u001b[0m: 'RegionalClassifier' object has no attribute 'importance'"
     ]
    }
   ],
   "source": [
    "clf = RegionalClassifier(dataset, 'masks/newDMN_4regions.nii.gz', GaussianNB())\n",
    "formated_importances = clf.get_formatted_importances(feature_names=nicknames.nickname)\n",
    "\n",
    "a, b, cog =plot_clf_polar(formated_importances,labels = cognitive_topics, max_val=1.2,label_size=22)\n",
    "a, b, dis = plot_clf_polar(formated_importances, labels = disease_topics, max_val=0.8,label_size=22)\n",
    "\n",
    "cog.savefig('DMN_cog.svg')\n",
    "dis.savefig('DMN_dis.svg')"
   ]
  },
  {
   "cell_type": "code",
   "execution_count": null,
   "metadata": {
    "collapsed": true
   },
   "outputs": [],
   "source": [
    "clf = RegionalClassifier(dataset, 'images/MPFC/cluster_labels_k2.nii.gz', GaussianNB())\n",
    "formated_importances = clf.get_formatted_importances(feature_names=nicknames.nickname)\n",
    "\n",
    "colors = [\"amber\",\"dark blue grey\"]\n",
    "colors = sns.xkcd_palette(colors)\n",
    "formated_importances = clf.get_formatted_importances(feature_names=nicknames.nickname)\n",
    "\n",
    "a, b, cog =plot_clf_polar(formated_importances,labels = cognitive_topics, max_val=1.2,label_size=22)\n",
    "a, b, dis = plot_clf_polar(formated_importances, labels = disease_topics, max_val=0.8,label_size=22)\n",
    "\n",
    "cog.savefig('MPFC_cog.svg')\n",
    "dis.savefig('MPFC_dis.svg')"
   ]
  },
  {
   "cell_type": "code",
   "execution_count": null,
   "metadata": {
    "collapsed": true
   },
   "outputs": [],
   "source": [
    "clf = RegionalClassifier(dataset, 'images/PCC/cluster_labels_k3.nii.gz', GaussianNB())\n",
    "formated_importances = clf.get_formatted_importances(feature_names=nicknames.nickname)\n",
    "\n",
    "colors = [\"jungle green\",\"yellow\",\"red\"]\n",
    "colors = sns.xkcd_palette(colors)\n",
    "formated_importances = clf.get_formatted_importances(feature_names=nicknames.nickname)\n",
    "\n",
    "a, b, cog =plot_clf_polar(formated_importances,labels = cognitive_topics, max_val=1.2,label_size=22)\n",
    "a, b, dis = plot_clf_polar(formated_importances, labels = disease_topics, max_val=0.8,label_size=22)\n",
    "\n",
    "cog.savefig('PCC_cog.svg')\n",
    "dis.savefig('PCC_dis.svg')"
   ]
  },
  {
   "cell_type": "code",
   "execution_count": null,
   "metadata": {
    "collapsed": true
   },
   "outputs": [],
   "source": [
    "clf = RegionalClassifier(dataset, 'images/lTPJ/cluster_labels_k3.nii.gz', GaussianNB())\n",
    "formated_importances = clf.get_formatted_importances(feature_names=nicknames.nickname)\n",
    "\n",
    "colors = [\"clay\",\"dodger blue\",\"pink\"]\n",
    "colors = sns.xkcd_palette(colors)\n",
    "formated_importances = clf.get_formatted_importances(feature_names=nicknames.nickname)\n",
    "\n",
    "a, b, cog =plot_clf_polar(formated_importances,labels = cognitive_topics, max_val=1.2,label_size=22)\n",
    "a, b, dis = plot_clf_polar(formated_importances, labels = disease_topics, max_val=0.8,label_size=22)\n",
    "\n",
    "cog.savefig('lTPJ_cog.svg')\n",
    "dis.savefig('lTPJ_dis.svg')"
   ]
  },
  {
   "cell_type": "code",
   "execution_count": null,
   "metadata": {
    "collapsed": true
   },
   "outputs": [],
   "source": [
    "clf = RegionalClassifier(dataset, 'images/rTPJ/cluster_labels_k2.nii.gz', GaussianNB())\n",
    "formated_importances = clf.get_formatted_importances(feature_names=nicknames.nickname)\n",
    "\n",
    "colors = [\"lighter green\",\"bluey purple\"]\n",
    "colors = sns.xkcd_palette(colors)\n",
    "formated_importances = clf.get_formatted_importances(feature_names=nicknames.nickname)\n",
    "\n",
    "a, b, cog =plot_clf_polar(formated_importances,labels = cognitive_topics, max_val=1.2,label_size=22)\n",
    "a, b, dis = plot_clf_polar(formated_importances, labels = disease_topics, max_val=0.8,label_size=22)\n",
    "\n",
    "cog.savefig('rTPJ_cog.svg')\n",
    "dis.savefig('rTPJ_dis.svg')"
   ]
  }
 ],
 "metadata": {
  "anaconda-cloud": {},
  "kernelspec": {
   "display_name": "Python [conda root]",
   "language": "python",
   "name": "conda-root-py"
  },
  "language_info": {
   "codemirror_mode": {
    "name": "ipython",
    "version": 2
   },
   "file_extension": ".py",
   "mimetype": "text/x-python",
   "name": "python",
   "nbconvert_exporter": "python",
   "pygments_lexer": "ipython2",
   "version": "2.7.12"
  }
 },
 "nbformat": 4,
 "nbformat_minor": 1
}
